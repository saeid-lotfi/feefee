{
 "cells": [
  {
   "cell_type": "code",
   "execution_count": 44,
   "metadata": {},
   "outputs": [],
   "source": [
    "import pandas as pd\n",
    "import requests\n",
    "import datetime as dt\n",
    "import time\n",
    "from sqlalchemy.dialects.postgresql import insert\n",
    "\n",
    "from database import get_db\n",
    "from models import *\n",
    "import logging\n",
    "logging.getLogger().setLevel(logging.INFO)\n",
    "# pd.set_option('future.no_silent_downcasting', True)"
   ]
  },
  {
   "cell_type": "code",
   "execution_count": 45,
   "metadata": {},
   "outputs": [],
   "source": [
    "def get_tmc_data_by_url(url):\n",
    "    headers = { \n",
    "        \"Accept\": \"text/html,application/xhtml+xml,application/xml;q=0.9,image/avif,image/webp,*/*;q=0.8\",\n",
    "        \"Accept-Language\": \"en-US,en;q=0.5\",\n",
    "        \"Accept-Encoding\": \"gzip, deflate, br\",\n",
    "        \"User-Agent\": \"Mozilla/5.0 (Windows NT 10.0; Win64; x64; rv:121.0) Gecko/20100101 Firefox/121.0\"\n",
    "        }\n",
    "\n",
    "    response = requests.get(url, headers= headers)\n",
    "    result = response.json()\n",
    "\n",
    "    return result\n",
    "\n",
    "def get_fund_meta_data():\n",
    "    \n",
    "    url = 'https://cdn.tsetmc.com/api/ClosingPrice/GetRelatedCompany/68'\n",
    "    data = get_tmc_data_by_url(url)\n",
    "\n",
    "    df = pd.DataFrame(data['relatedCompany'])\n",
    "    df['Fund_Id'] = df['insCode']\n",
    "    df['Fund_Name'] = df['instrument'].apply(lambda x: x['lVal18AFC'])\n",
    "    df['Fund_NameDetail'] = df['instrument'].apply(lambda x: x['lVal30'])\n",
    "    df = df[['Fund_Id', 'Fund_Name', 'Fund_NameDetail']]\n",
    "    \n",
    "    return df\n"
   ]
  },
  {
   "cell_type": "code",
   "execution_count": 46,
   "metadata": {},
   "outputs": [],
   "source": [
    "fund_metadata = get_fund_meta_data()"
   ]
  },
  {
   "cell_type": "code",
   "execution_count": 52,
   "metadata": {},
   "outputs": [],
   "source": [
    "z = next(fund_metadata.itertuples())"
   ]
  },
  {
   "cell_type": "code",
   "execution_count": 56,
   "metadata": {},
   "outputs": [
    {
     "data": {
      "text/plain": [
       "'صندوق س سهامي كاريزما- اهرمي'"
      ]
     },
     "execution_count": 56,
     "metadata": {},
     "output_type": "execute_result"
    }
   ],
   "source": [
    "z.Fund_NameDetail"
   ]
  },
  {
   "cell_type": "code",
   "execution_count": 47,
   "metadata": {},
   "outputs": [
    {
     "data": {
      "text/html": [
       "<div>\n",
       "<style scoped>\n",
       "    .dataframe tbody tr th:only-of-type {\n",
       "        vertical-align: middle;\n",
       "    }\n",
       "\n",
       "    .dataframe tbody tr th {\n",
       "        vertical-align: top;\n",
       "    }\n",
       "\n",
       "    .dataframe thead th {\n",
       "        text-align: right;\n",
       "    }\n",
       "</style>\n",
       "<table border=\"1\" class=\"dataframe\">\n",
       "  <thead>\n",
       "    <tr style=\"text-align: right;\">\n",
       "      <th></th>\n",
       "      <th>Fund_Id</th>\n",
       "      <th>Fund_Name</th>\n",
       "      <th>Fund_NameDetail</th>\n",
       "    </tr>\n",
       "  </thead>\n",
       "  <tbody>\n",
       "    <tr>\n",
       "      <th>0</th>\n",
       "      <td>17914401175772326</td>\n",
       "      <td>اهرم</td>\n",
       "      <td>صندوق س سهامي كاريزما- اهرمي</td>\n",
       "    </tr>\n",
       "    <tr>\n",
       "      <th>1</th>\n",
       "      <td>67675656072510693</td>\n",
       "      <td>پالايش</td>\n",
       "      <td>صندوق پالايشي يكم-سهام</td>\n",
       "    </tr>\n",
       "    <tr>\n",
       "      <th>2</th>\n",
       "      <td>62235397452612911</td>\n",
       "      <td>دارا يكم</td>\n",
       "      <td>صندوق واسطه گري مالي يكم-سهام</td>\n",
       "    </tr>\n",
       "    <tr>\n",
       "      <th>3</th>\n",
       "      <td>66682662312253625</td>\n",
       "      <td>آساس</td>\n",
       "      <td>صندوق س.آسمان آرماني سهام-س</td>\n",
       "    </tr>\n",
       "    <tr>\n",
       "      <th>4</th>\n",
       "      <td>64216772923447100</td>\n",
       "      <td>شتاب</td>\n",
       "      <td>صندوق س سهامي شتاب آگاه-اهرمي</td>\n",
       "    </tr>\n",
       "    <tr>\n",
       "      <th>...</th>\n",
       "      <td>...</td>\n",
       "      <td>...</td>\n",
       "      <td>...</td>\n",
       "    </tr>\n",
       "    <tr>\n",
       "      <th>175</th>\n",
       "      <td>37118058361762279</td>\n",
       "      <td>مالك آتيه</td>\n",
       "      <td>ص.س.املاك و مستغلات مالك آتيه</td>\n",
       "    </tr>\n",
       "    <tr>\n",
       "      <th>176</th>\n",
       "      <td>33015297618582406</td>\n",
       "      <td>كارما</td>\n",
       "      <td>صندوق س.درآمد ثابت كيهان-د</td>\n",
       "    </tr>\n",
       "    <tr>\n",
       "      <th>177</th>\n",
       "      <td>23609214278467198</td>\n",
       "      <td>ثروت ساز</td>\n",
       "      <td>صندوق س ثروت ساز دييا-سهام</td>\n",
       "    </tr>\n",
       "    <tr>\n",
       "      <th>178</th>\n",
       "      <td>27639047710974505</td>\n",
       "      <td>خبرگان</td>\n",
       "      <td>صندوق س انديشه خبرگان-سهام</td>\n",
       "    </tr>\n",
       "    <tr>\n",
       "      <th>179</th>\n",
       "      <td>30977409629493496</td>\n",
       "      <td>نيك گستر</td>\n",
       "      <td>صندوق س توسعه سرمايه نيكي-ثابت</td>\n",
       "    </tr>\n",
       "  </tbody>\n",
       "</table>\n",
       "<p>180 rows × 3 columns</p>\n",
       "</div>"
      ],
      "text/plain": [
       "               Fund_Id  Fund_Name                 Fund_NameDetail\n",
       "0    17914401175772326       اهرم    صندوق س سهامي كاريزما- اهرمي\n",
       "1    67675656072510693     پالايش          صندوق پالايشي يكم-سهام\n",
       "2    62235397452612911   دارا يكم   صندوق واسطه گري مالي يكم-سهام\n",
       "3    66682662312253625       آساس     صندوق س.آسمان آرماني سهام-س\n",
       "4    64216772923447100       شتاب   صندوق س سهامي شتاب آگاه-اهرمي\n",
       "..                 ...        ...                             ...\n",
       "175  37118058361762279  مالك آتيه   ص.س.املاك و مستغلات مالك آتيه\n",
       "176  33015297618582406      كارما      صندوق س.درآمد ثابت كيهان-د\n",
       "177  23609214278467198   ثروت ساز      صندوق س ثروت ساز دييا-سهام\n",
       "178  27639047710974505     خبرگان      صندوق س انديشه خبرگان-سهام\n",
       "179  30977409629493496   نيك گستر  صندوق س توسعه سرمايه نيكي-ثابت\n",
       "\n",
       "[180 rows x 3 columns]"
      ]
     },
     "execution_count": 47,
     "metadata": {},
     "output_type": "execute_result"
    }
   ],
   "source": [
    "fund_metadata"
   ]
  }
 ],
 "metadata": {
  "kernelspec": {
   "display_name": "Python 3",
   "language": "python",
   "name": "python3"
  },
  "language_info": {
   "codemirror_mode": {
    "name": "ipython",
    "version": 3
   },
   "file_extension": ".py",
   "mimetype": "text/x-python",
   "name": "python",
   "nbconvert_exporter": "python",
   "pygments_lexer": "ipython3",
   "version": "3.8.10"
  }
 },
 "nbformat": 4,
 "nbformat_minor": 2
}
