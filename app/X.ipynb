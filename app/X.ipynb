{
 "cells": [
  {
   "cell_type": "code",
   "execution_count": 1,
   "metadata": {},
   "outputs": [],
   "source": [
    "from fastapi import FastAPI, Depends\n",
    "from sqlalchemy.orm import Session\n",
    "\n",
    "from database import get_db, init_db\n",
    "from sync import update_db\n",
    "\n",
    "from api_functions import get_overview, get_chart_data, get_assets"
   ]
  },
  {
   "cell_type": "code",
   "execution_count": 2,
   "metadata": {},
   "outputs": [
    {
     "name": "stderr",
     "output_type": "stream",
     "text": [
      "INFO:root:Trying to connect to the database...\n",
      "INFO:root:Successfully connected to the database!\n",
      "INFO:root:DB tables []\n",
      "INFO:root:DB views []\n",
      "INFO:root:Model tables ['BourseHistory', 'CryptocurrencyHistory', 'CurrencyHistory', 'GoldHistory', 'FundHistory']\n",
      "INFO:root:Model views ['TotalIndex_view', 'WeightedIndex_view', 'Cryptocurrency_view']\n",
      "INFO:root:Checking table BourseHistory\n",
      "INFO:root:Table BourseHistory does not exist in the database! Creating table...\n",
      "INFO:root:Checking table CryptocurrencyHistory\n",
      "INFO:root:Table CryptocurrencyHistory does not exist in the database! Creating table...\n",
      "INFO:root:Checking table CurrencyHistory\n",
      "INFO:root:Table CurrencyHistory does not exist in the database! Creating table...\n",
      "INFO:root:Checking table GoldHistory\n",
      "INFO:root:Table GoldHistory does not exist in the database! Creating table...\n",
      "INFO:root:Checking table FundHistory\n",
      "INFO:root:Table FundHistory does not exist in the database! Creating table...\n",
      "INFO:root:Views will be created and replaced\n"
     ]
    }
   ],
   "source": [
    "# initialize the server database\n",
    "init_db()"
   ]
  },
  {
   "cell_type": "code",
   "execution_count": 3,
   "metadata": {},
   "outputs": [
    {
     "name": "stderr",
     "output_type": "stream",
     "text": [
      "INFO:root:Calling source api for index total\n",
      "INFO:root:Transforming raw data\n",
      "INFO:root:Data sample: \n",
      "      Date_En           Index_Id Index_Type      Value  Previous_Value  \\\n",
      "0 2022-01-01  32097828799138957      total  1378770.0       1378777.4   \n",
      "1 2022-01-02  32097828799138957      total  1378600.0       1379041.1   \n",
      "2 2022-01-03  32097828799138957      total  1376040.0       1376049.3   \n",
      "3 2022-01-04  32097828799138957      total  1362790.0       1362828.6   \n",
      "4 2022-01-05  32097828799138957      total  1362340.0       1363095.8   \n",
      "\n",
      "   Closed_Day  \n",
      "0       False  \n",
      "1       False  \n",
      "2       False  \n",
      "3       False  \n",
      "4       False  \n",
      "INFO:root:Inserting to db\n",
      "INFO:root:Calling source api for index weighted\n",
      "INFO:root:Transforming raw data\n",
      "INFO:root:Data sample: \n",
      "      Date_En           Index_Id Index_Type     Value  Previous_Value  \\\n",
      "0 2022-01-01  67130298613737946   weighted  363469.0        363469.0   \n",
      "1 2022-01-02  67130298613737946   weighted  363341.0        363519.0   \n",
      "2 2022-01-03  67130298613737946   weighted  363241.0        363244.0   \n",
      "3 2022-01-04  67130298613737946   weighted  359982.0        359982.0   \n",
      "4 2022-01-05  67130298613737946   weighted  359471.0        359472.0   \n",
      "\n",
      "   Closed_Day  \n",
      "0       False  \n",
      "1       False  \n",
      "2       False  \n",
      "3       False  \n",
      "4       False  \n",
      "INFO:root:Inserting to db\n"
     ]
    }
   ],
   "source": [
    "update_db()"
   ]
  },
  {
   "cell_type": "code",
   "execution_count": 13,
   "metadata": {},
   "outputs": [],
   "source": [
    "from models import BourseHistory\n",
    "records = [BourseHistory(**record) for record in df.to_dict(orient='records')]"
   ]
  },
  {
   "cell_type": "code",
   "execution_count": 38,
   "metadata": {},
   "outputs": [],
   "source": [
    "records = df.to_dict(orient='records')"
   ]
  },
  {
   "cell_type": "code",
   "execution_count": 39,
   "metadata": {},
   "outputs": [],
   "source": [
    "from sqlalchemy.dialects.postgresql import insert\n",
    "# from sqlalchemy import insert\n",
    "stmt = insert(BourseHistory).values(records)\n",
    "stmt = stmt.on_conflict_do_update(\n",
    "    index_elements =['Index_Id', 'Date_En'],\n",
    "    set_={\n",
    "        'Index_Type': stmt.excluded.Index_Type,\n",
    "        'Value': stmt.excluded.Value,\n",
    "        'Previous_Value': stmt.excluded.Previous_Value,\n",
    "        'Closed_Day': stmt.excluded.Closed_Day\n",
    "    }\n",
    ")"
   ]
  },
  {
   "cell_type": "code",
   "execution_count": 37,
   "metadata": {},
   "outputs": [],
   "source": [
    "db_gen = get_db()\n",
    "db = next(db_gen)"
   ]
  },
  {
   "cell_type": "code",
   "execution_count": 40,
   "metadata": {},
   "outputs": [
    {
     "data": {
      "text/plain": [
       "<sqlalchemy.engine.cursor.CursorResult at 0x7f91744f68e0>"
      ]
     },
     "execution_count": 40,
     "metadata": {},
     "output_type": "execute_result"
    }
   ],
   "source": [
    "\n",
    "db.execute(stmt)"
   ]
  },
  {
   "cell_type": "code",
   "execution_count": 41,
   "metadata": {},
   "outputs": [],
   "source": [
    "db.commit()"
   ]
  },
  {
   "cell_type": "code",
   "execution_count": 42,
   "metadata": {},
   "outputs": [],
   "source": [
    "db.close()"
   ]
  },
  {
   "cell_type": "code",
   "execution_count": 12,
   "metadata": {},
   "outputs": [
    {
     "ename": "KeyError",
     "evalue": "'primary_key'",
     "output_type": "error",
     "traceback": [
      "\u001b[0;31m---------------------------------------------------------------------------\u001b[0m",
      "\u001b[0;31mKeyError\u001b[0m                                  Traceback (most recent call last)",
      "Cell \u001b[0;32mIn[12], line 4\u001b[0m\n\u001b[1;32m      1\u001b[0m records \u001b[38;5;241m=\u001b[39m []\n\u001b[1;32m      2\u001b[0m \u001b[38;5;28;01mfor\u001b[39;00m record_data \u001b[38;5;129;01min\u001b[39;00m df\u001b[38;5;241m.\u001b[39mto_dict(orient\u001b[38;5;241m=\u001b[39m\u001b[38;5;124m'\u001b[39m\u001b[38;5;124mrecords\u001b[39m\u001b[38;5;124m'\u001b[39m):\n\u001b[1;32m      3\u001b[0m     \u001b[38;5;66;03m# Check if the primary key already exists\u001b[39;00m\n\u001b[0;32m----> 4\u001b[0m     existing_record \u001b[38;5;241m=\u001b[39m db\u001b[38;5;241m.\u001b[39mquery(BourseHistory)\u001b[38;5;241m.\u001b[39mget(\u001b[43mrecord_data\u001b[49m\u001b[43m[\u001b[49m\u001b[38;5;124;43m'\u001b[39;49m\u001b[38;5;124;43mprimary_key\u001b[39;49m\u001b[38;5;124;43m'\u001b[39;49m\u001b[43m]\u001b[49m)\n\u001b[1;32m      5\u001b[0m     \u001b[38;5;28;01mif\u001b[39;00m existing_record:\n\u001b[1;32m      6\u001b[0m         \u001b[38;5;66;03m# Handle update or skip the record\u001b[39;00m\n\u001b[1;32m      7\u001b[0m         \u001b[38;5;66;03m# For example, you can update existing_record with record_data\u001b[39;00m\n\u001b[1;32m      8\u001b[0m         \u001b[38;5;66;03m# existing_record.some_field = record_data['some_field']\u001b[39;00m\n\u001b[1;32m      9\u001b[0m         \u001b[38;5;66;03m# Or, you can skip the record\u001b[39;00m\n\u001b[1;32m     10\u001b[0m         \u001b[38;5;28;01mcontinue\u001b[39;00m\n",
      "\u001b[0;31mKeyError\u001b[0m: 'primary_key'"
     ]
    }
   ],
   "source": [
    "records = []\n",
    "for record_data in df.to_dict(orient='records'):\n",
    "    # Check if the primary key already exists\n",
    "    existing_record = db.query(BourseHistory).get(record_data['primary_key'])\n",
    "    if existing_record:\n",
    "        # Handle update or skip the record\n",
    "        # For example, you can update existing_record with record_data\n",
    "        # existing_record.some_field = record_data['some_field']\n",
    "        # Or, you can skip the record\n",
    "        continue\n",
    "    # If primary key doesn't exist, create a new object\n",
    "    records.append(BourseHistory(**record_data))"
   ]
  },
  {
   "cell_type": "code",
   "execution_count": null,
   "metadata": {},
   "outputs": [],
   "source": [
    "existing_record = db.query(BourseHistory).get(record_data['primary_key'])"
   ]
  }
 ],
 "metadata": {
  "kernelspec": {
   "display_name": "Python 3",
   "language": "python",
   "name": "python3"
  },
  "language_info": {
   "codemirror_mode": {
    "name": "ipython",
    "version": 3
   },
   "file_extension": ".py",
   "mimetype": "text/x-python",
   "name": "python",
   "nbconvert_exporter": "python",
   "pygments_lexer": "ipython3",
   "version": "3.8.10"
  }
 },
 "nbformat": 4,
 "nbformat_minor": 2
}
