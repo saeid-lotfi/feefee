{
 "cells": [
  {
   "cell_type": "code",
   "execution_count": 1,
   "metadata": {},
   "outputs": [],
   "source": [
    "import requests\n",
    "import datetime as dt\n",
    "import time\n",
    "import pytz\n",
    "import json\n",
    "import pandas as pd\n",
    "pd.set_option('display.max_columns', None)"
   ]
  },
  {
   "cell_type": "code",
   "execution_count": 5,
   "metadata": {},
   "outputs": [],
   "source": [
    "def get_exir_data_by_url(url):\n",
    "\n",
    "    response = requests.get(url)\n",
    "    result = response.json()\n",
    "\n",
    "    return result\n",
    "\n",
    "\n",
    "def get_cryptocurrency_historic_data(crypto_symbol, from_timestamp, to_timestamp):\n",
    "    \n",
    "    url = f'https://api.exir.io/v2/chart?symbol={crypto_symbol}&resolution=15&from={from_timestamp}&to={to_timestamp}'\n",
    "    raw_data = get_exir_data_by_url(url)\n",
    "    print(url)\n",
    "    \n",
    "    return raw_data\n",
    "\n",
    "def transform_cryptocurrency_historic_data(raw_data, crypto_id):\n",
    "    \n",
    "    # change to dataframe\n",
    "    df = pd.DataFrame(raw_data)\n",
    "\n",
    "    # get interest data\n",
    "    df['Crypto_Id'] = crypto_id\n",
    "    df['Datetime_UTC'] = pd.to_datetime(df['time'])\n",
    "    df['Datetime_Local'] = df['Datetime_UTC'].dt.tz_convert(pytz.timezone('Asia/Tehran'))\n",
    "    df['Value'] = df['close']\n",
    "    df['Previous_Value'] = df['open']\n",
    "\n",
    "    # remove extra data\n",
    "    df = df[['Crypto_Id', 'Datetime_UTC', 'Datetime_Local', 'Value', 'Previous_Value']]\n",
    "\n",
    "    return df"
   ]
  },
  {
   "cell_type": "code",
   "execution_count": 11,
   "metadata": {},
   "outputs": [
    {
     "data": {
      "text/plain": [
       "'1716567880'"
      ]
     },
     "execution_count": 11,
     "metadata": {},
     "output_type": "execute_result"
    }
   ],
   "source": [
    "to_timestamp"
   ]
  },
  {
   "cell_type": "code",
   "execution_count": 12,
   "metadata": {},
   "outputs": [
    {
     "name": "stdout",
     "output_type": "stream",
     "text": [
      "https://api.exir.io/v2/chart?symbol=usdt-irt&resolution=15&from=1709238840&to=1716568072\n"
     ]
    }
   ],
   "source": [
    "from_time = dt.datetime(2024, 3, 1, tzinfo= pytz.timezone('Asia/Tehran'))\n",
    "from_timestamp = str(int(from_time.timestamp()))\n",
    "to_time = dt.datetime.now()\n",
    "to_timestamp = str(int(to_time.timestamp()))\n",
    "\n",
    "crypto_metadata = {\n",
    "    'teter': 'usdt-irt',\n",
    "    'bitcoin': 'btc-irt'\n",
    "}\n",
    "\n",
    "raw_data = get_cryptocurrency_historic_data('usdt-irt', from_timestamp, to_timestamp)\n",
    "# df = transform_cryptocurrency_historic_data(raw_data, 'teter')"
   ]
  },
  {
   "cell_type": "code",
   "execution_count": 20,
   "metadata": {},
   "outputs": [
    {
     "data": {
      "text/plain": [
       "'1740774840'"
      ]
     },
     "execution_count": 20,
     "metadata": {},
     "output_type": "execute_result"
    }
   ],
   "source": [
    "from_timestamp"
   ]
  },
  {
   "cell_type": "code",
   "execution_count": 21,
   "metadata": {},
   "outputs": [
    {
     "data": {
      "text/plain": [
       "'1716567573'"
      ]
     },
     "execution_count": 21,
     "metadata": {},
     "output_type": "execute_result"
    }
   ],
   "source": [
    "to_timestamp"
   ]
  },
  {
   "cell_type": "code",
   "execution_count": 19,
   "metadata": {},
   "outputs": [
    {
     "data": {
      "text/plain": [
       "[]"
      ]
     },
     "execution_count": 19,
     "metadata": {},
     "output_type": "execute_result"
    }
   ],
   "source": [
    "raw_data"
   ]
  },
  {
   "cell_type": "code",
   "execution_count": 12,
   "metadata": {},
   "outputs": [],
   "source": [
    "df = transform_cryptocurrency_historic_data(raw_data, 'teter')"
   ]
  },
  {
   "cell_type": "code",
   "execution_count": 15,
   "metadata": {},
   "outputs": [
    {
     "data": {
      "text/plain": [
       "Index(['time', 'close', 'high', 'low', 'open', 'symbol', 'volume'], dtype='object')"
      ]
     },
     "execution_count": 15,
     "metadata": {},
     "output_type": "execute_result"
    }
   ],
   "source": [
    "pd.DataFrame(raw_data).columns"
   ]
  },
  {
   "cell_type": "code",
   "execution_count": 4,
   "metadata": {},
   "outputs": [],
   "source": [
    "df = pd.DataFrame(raw_data)"
   ]
  },
  {
   "cell_type": "code",
   "execution_count": 6,
   "metadata": {},
   "outputs": [],
   "source": [
    "import pytz"
   ]
  },
  {
   "cell_type": "code",
   "execution_count": 10,
   "metadata": {},
   "outputs": [
    {
     "data": {
      "text/plain": [
       "'2024-02-29T20:30:00.000Z'"
      ]
     },
     "execution_count": 10,
     "metadata": {},
     "output_type": "execute_result"
    }
   ],
   "source": [
    "df.iloc[0]['time']"
   ]
  },
  {
   "cell_type": "code",
   "execution_count": 14,
   "metadata": {},
   "outputs": [],
   "source": [
    "df['time2'] = pd.to_datetime(df['time'])\n",
    "df['time3'] = df['time2'].dt.tz_convert(pytz.timezone('Asia/Tehran'))"
   ]
  },
  {
   "cell_type": "code",
   "execution_count": 15,
   "metadata": {},
   "outputs": [
    {
     "data": {
      "text/html": [
       "<div>\n",
       "<style scoped>\n",
       "    .dataframe tbody tr th:only-of-type {\n",
       "        vertical-align: middle;\n",
       "    }\n",
       "\n",
       "    .dataframe tbody tr th {\n",
       "        vertical-align: top;\n",
       "    }\n",
       "\n",
       "    .dataframe thead th {\n",
       "        text-align: right;\n",
       "    }\n",
       "</style>\n",
       "<table border=\"1\" class=\"dataframe\">\n",
       "  <thead>\n",
       "    <tr style=\"text-align: right;\">\n",
       "      <th></th>\n",
       "      <th>time</th>\n",
       "      <th>close</th>\n",
       "      <th>high</th>\n",
       "      <th>low</th>\n",
       "      <th>open</th>\n",
       "      <th>symbol</th>\n",
       "      <th>volume</th>\n",
       "      <th>time2</th>\n",
       "      <th>time3</th>\n",
       "    </tr>\n",
       "  </thead>\n",
       "  <tbody>\n",
       "    <tr>\n",
       "      <th>0</th>\n",
       "      <td>2024-02-29T20:30:00.000Z</td>\n",
       "      <td>58779</td>\n",
       "      <td>58779</td>\n",
       "      <td>58750</td>\n",
       "      <td>58750</td>\n",
       "      <td>usdt-irt</td>\n",
       "      <td>958.33</td>\n",
       "      <td>2024-02-29 20:30:00+00:00</td>\n",
       "      <td>2024-03-01 00:00:00+03:30</td>\n",
       "    </tr>\n",
       "    <tr>\n",
       "      <th>1</th>\n",
       "      <td>2024-02-29T21:00:00.000Z</td>\n",
       "      <td>58779</td>\n",
       "      <td>58779</td>\n",
       "      <td>58690</td>\n",
       "      <td>58690</td>\n",
       "      <td>usdt-irt</td>\n",
       "      <td>276.10</td>\n",
       "      <td>2024-02-29 21:00:00+00:00</td>\n",
       "      <td>2024-03-01 00:30:00+03:30</td>\n",
       "    </tr>\n",
       "    <tr>\n",
       "      <th>2</th>\n",
       "      <td>2024-02-29T21:15:00.000Z</td>\n",
       "      <td>58779</td>\n",
       "      <td>58779</td>\n",
       "      <td>58629</td>\n",
       "      <td>58734</td>\n",
       "      <td>usdt-irt</td>\n",
       "      <td>633.17</td>\n",
       "      <td>2024-02-29 21:15:00+00:00</td>\n",
       "      <td>2024-03-01 00:45:00+03:30</td>\n",
       "    </tr>\n",
       "    <tr>\n",
       "      <th>3</th>\n",
       "      <td>2024-02-29T21:30:00.000Z</td>\n",
       "      <td>58700</td>\n",
       "      <td>58700</td>\n",
       "      <td>58700</td>\n",
       "      <td>58700</td>\n",
       "      <td>usdt-irt</td>\n",
       "      <td>6474.93</td>\n",
       "      <td>2024-02-29 21:30:00+00:00</td>\n",
       "      <td>2024-03-01 01:00:00+03:30</td>\n",
       "    </tr>\n",
       "    <tr>\n",
       "      <th>4</th>\n",
       "      <td>2024-02-29T21:45:00.000Z</td>\n",
       "      <td>58550</td>\n",
       "      <td>58700</td>\n",
       "      <td>58400</td>\n",
       "      <td>58700</td>\n",
       "      <td>usdt-irt</td>\n",
       "      <td>3515.83</td>\n",
       "      <td>2024-02-29 21:45:00+00:00</td>\n",
       "      <td>2024-03-01 01:15:00+03:30</td>\n",
       "    </tr>\n",
       "    <tr>\n",
       "      <th>...</th>\n",
       "      <td>...</td>\n",
       "      <td>...</td>\n",
       "      <td>...</td>\n",
       "      <td>...</td>\n",
       "      <td>...</td>\n",
       "      <td>...</td>\n",
       "      <td>...</td>\n",
       "      <td>...</td>\n",
       "      <td>...</td>\n",
       "    </tr>\n",
       "    <tr>\n",
       "      <th>6839</th>\n",
       "      <td>2024-05-24T14:45:00.000Z</td>\n",
       "      <td>58164</td>\n",
       "      <td>58164</td>\n",
       "      <td>57832</td>\n",
       "      <td>57886</td>\n",
       "      <td>usdt-irt</td>\n",
       "      <td>233.83</td>\n",
       "      <td>2024-05-24 14:45:00+00:00</td>\n",
       "      <td>2024-05-24 18:15:00+03:30</td>\n",
       "    </tr>\n",
       "    <tr>\n",
       "      <th>6840</th>\n",
       "      <td>2024-05-24T15:00:00.000Z</td>\n",
       "      <td>57703</td>\n",
       "      <td>58164</td>\n",
       "      <td>57703</td>\n",
       "      <td>58164</td>\n",
       "      <td>usdt-irt</td>\n",
       "      <td>1179.39</td>\n",
       "      <td>2024-05-24 15:00:00+00:00</td>\n",
       "      <td>2024-05-24 18:30:00+03:30</td>\n",
       "    </tr>\n",
       "    <tr>\n",
       "      <th>6841</th>\n",
       "      <td>2024-05-24T15:15:00.000Z</td>\n",
       "      <td>57672</td>\n",
       "      <td>57703</td>\n",
       "      <td>57643</td>\n",
       "      <td>57703</td>\n",
       "      <td>usdt-irt</td>\n",
       "      <td>6136.00</td>\n",
       "      <td>2024-05-24 15:15:00+00:00</td>\n",
       "      <td>2024-05-24 18:45:00+03:30</td>\n",
       "    </tr>\n",
       "    <tr>\n",
       "      <th>6842</th>\n",
       "      <td>2024-05-24T15:30:00.000Z</td>\n",
       "      <td>57672</td>\n",
       "      <td>57672</td>\n",
       "      <td>57644</td>\n",
       "      <td>57644</td>\n",
       "      <td>usdt-irt</td>\n",
       "      <td>2307.03</td>\n",
       "      <td>2024-05-24 15:30:00+00:00</td>\n",
       "      <td>2024-05-24 19:00:00+03:30</td>\n",
       "    </tr>\n",
       "    <tr>\n",
       "      <th>6843</th>\n",
       "      <td>2024-05-24T15:45:00.000Z</td>\n",
       "      <td>57700</td>\n",
       "      <td>57700</td>\n",
       "      <td>57700</td>\n",
       "      <td>57700</td>\n",
       "      <td>usdt-irt</td>\n",
       "      <td>143.00</td>\n",
       "      <td>2024-05-24 15:45:00+00:00</td>\n",
       "      <td>2024-05-24 19:15:00+03:30</td>\n",
       "    </tr>\n",
       "  </tbody>\n",
       "</table>\n",
       "<p>6844 rows × 9 columns</p>\n",
       "</div>"
      ],
      "text/plain": [
       "                          time  close   high    low   open    symbol   volume  \\\n",
       "0     2024-02-29T20:30:00.000Z  58779  58779  58750  58750  usdt-irt   958.33   \n",
       "1     2024-02-29T21:00:00.000Z  58779  58779  58690  58690  usdt-irt   276.10   \n",
       "2     2024-02-29T21:15:00.000Z  58779  58779  58629  58734  usdt-irt   633.17   \n",
       "3     2024-02-29T21:30:00.000Z  58700  58700  58700  58700  usdt-irt  6474.93   \n",
       "4     2024-02-29T21:45:00.000Z  58550  58700  58400  58700  usdt-irt  3515.83   \n",
       "...                        ...    ...    ...    ...    ...       ...      ...   \n",
       "6839  2024-05-24T14:45:00.000Z  58164  58164  57832  57886  usdt-irt   233.83   \n",
       "6840  2024-05-24T15:00:00.000Z  57703  58164  57703  58164  usdt-irt  1179.39   \n",
       "6841  2024-05-24T15:15:00.000Z  57672  57703  57643  57703  usdt-irt  6136.00   \n",
       "6842  2024-05-24T15:30:00.000Z  57672  57672  57644  57644  usdt-irt  2307.03   \n",
       "6843  2024-05-24T15:45:00.000Z  57700  57700  57700  57700  usdt-irt   143.00   \n",
       "\n",
       "                         time2                     time3  \n",
       "0    2024-02-29 20:30:00+00:00 2024-03-01 00:00:00+03:30  \n",
       "1    2024-02-29 21:00:00+00:00 2024-03-01 00:30:00+03:30  \n",
       "2    2024-02-29 21:15:00+00:00 2024-03-01 00:45:00+03:30  \n",
       "3    2024-02-29 21:30:00+00:00 2024-03-01 01:00:00+03:30  \n",
       "4    2024-02-29 21:45:00+00:00 2024-03-01 01:15:00+03:30  \n",
       "...                        ...                       ...  \n",
       "6839 2024-05-24 14:45:00+00:00 2024-05-24 18:15:00+03:30  \n",
       "6840 2024-05-24 15:00:00+00:00 2024-05-24 18:30:00+03:30  \n",
       "6841 2024-05-24 15:15:00+00:00 2024-05-24 18:45:00+03:30  \n",
       "6842 2024-05-24 15:30:00+00:00 2024-05-24 19:00:00+03:30  \n",
       "6843 2024-05-24 15:45:00+00:00 2024-05-24 19:15:00+03:30  \n",
       "\n",
       "[6844 rows x 9 columns]"
      ]
     },
     "execution_count": 15,
     "metadata": {},
     "output_type": "execute_result"
    }
   ],
   "source": [
    "df"
   ]
  }
 ],
 "metadata": {
  "kernelspec": {
   "display_name": "Python 3",
   "language": "python",
   "name": "python3"
  },
  "language_info": {
   "codemirror_mode": {
    "name": "ipython",
    "version": 3
   },
   "file_extension": ".py",
   "mimetype": "text/x-python",
   "name": "python",
   "nbconvert_exporter": "python",
   "pygments_lexer": "ipython3",
   "version": "3.8.10"
  }
 },
 "nbformat": 4,
 "nbformat_minor": 2
}
