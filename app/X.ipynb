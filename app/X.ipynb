{
 "cells": [
  {
   "cell_type": "code",
   "execution_count": 1,
   "metadata": {},
   "outputs": [],
   "source": [
    "from fastapi import FastAPI, Depends\n",
    "from sqlalchemy.orm import Session\n",
    "\n",
    "from database import get_db\n",
    "from utils import init_db\n",
    "from models import *\n",
    "from api_functions import get_overview, get_chart_data, get_assets\n",
    "\n",
    "import logging\n",
    "logging.getLogger().setLevel(logging.INFO)"
   ]
  },
  {
   "cell_type": "code",
   "execution_count": 2,
   "metadata": {},
   "outputs": [],
   "source": [
    "import pandas as pd\n",
    "import requests\n",
    "import datetime as dt\n",
    "import time\n",
    "\n",
    "from database import engine\n",
    "from models import Base\n",
    "import logging\n",
    "logging.getLogger().setLevel(logging.INFO)"
   ]
  },
  {
   "cell_type": "code",
   "execution_count": 3,
   "metadata": {},
   "outputs": [
    {
     "name": "stderr",
     "output_type": "stream",
     "text": [
      "INFO:root:Droping Existing Tables ...\n"
     ]
    }
   ],
   "source": [
    "logging.info('Droping Existing Tables ...')\n",
    "Base.metadata.drop_all(engine)"
   ]
  },
  {
   "cell_type": "code",
   "execution_count": 19,
   "metadata": {},
   "outputs": [
    {
     "data": {
      "text/plain": [
       "True"
      ]
     },
     "execution_count": 19,
     "metadata": {},
     "output_type": "execute_result"
    }
   ],
   "source": [
    "Base.metadata.tables.keys() == metadata.tables.keys()"
   ]
  },
  {
   "cell_type": "code",
   "execution_count": 18,
   "metadata": {},
   "outputs": [
    {
     "data": {
      "text/plain": [
       "dict_keys(['BourseHistory', 'CryptocurrencyHistory', 'CurrencyHistory', 'GoldHistory', 'FundHistory'])"
      ]
     },
     "execution_count": 18,
     "metadata": {},
     "output_type": "execute_result"
    }
   ],
   "source": [
    "metadata.tables.keys()"
   ]
  },
  {
   "cell_type": "code",
   "execution_count": 11,
   "metadata": {},
   "outputs": [],
   "source": [
    "from sqlalchemy import MetaData\n",
    "metadata = MetaData()\n",
    "metadata.reflect(bind= engine)"
   ]
  },
  {
   "cell_type": "code",
   "execution_count": 16,
   "metadata": {},
   "outputs": [
    {
     "data": {
      "text/plain": [
       "FacadeDict({'BourseHistory': Table('BourseHistory', MetaData(), Column('id', INTEGER(), table=<BourseHistory>, primary_key=True, nullable=False, server_default=DefaultClause(<sqlalchemy.sql.elements.TextClause object at 0x7fdb6630ee50>, for_update=False)), Column('Index_Id', BIGINT(), table=<BourseHistory>, nullable=False), Column('Index_Type', VARCHAR(), table=<BourseHistory>, nullable=False), Column('Date_En', DATE(), table=<BourseHistory>, nullable=False), Column('Value', DOUBLE_PRECISION(precision=53), table=<BourseHistory>, nullable=False), Column('Previous_Value', DOUBLE_PRECISION(precision=53), table=<BourseHistory>, nullable=False), Column('Closed_Day', BOOLEAN(), table=<BourseHistory>, nullable=False), schema=None), 'CryptocurrencyHistory': Table('CryptocurrencyHistory', MetaData(), Column('id', INTEGER(), table=<CryptocurrencyHistory>, primary_key=True, nullable=False, server_default=DefaultClause(<sqlalchemy.sql.elements.TextClause object at 0x7fdb6631d130>, for_update=False)), Column('Crypto_Id', BIGINT(), table=<CryptocurrencyHistory>, nullable=False), Column('Crypto_Type', VARCHAR(), table=<CryptocurrencyHistory>, nullable=False), Column('Date_En', DATE(), table=<CryptocurrencyHistory>, nullable=False), Column('Value', DOUBLE_PRECISION(precision=53), table=<CryptocurrencyHistory>, nullable=False), Column('Previous_Value', DOUBLE_PRECISION(precision=53), table=<CryptocurrencyHistory>, nullable=False), Column('Closed_Day', BOOLEAN(), table=<CryptocurrencyHistory>, nullable=False), schema=None), 'CurrencyHistory': Table('CurrencyHistory', MetaData(), Column('id', INTEGER(), table=<CurrencyHistory>, primary_key=True, nullable=False, server_default=DefaultClause(<sqlalchemy.sql.elements.TextClause object at 0x7fdb6631d6a0>, for_update=False)), Column('Currency_Id', BIGINT(), table=<CurrencyHistory>, nullable=False), Column('Currency_Type', VARCHAR(), table=<CurrencyHistory>, nullable=False), Column('Date_En', DATE(), table=<CurrencyHistory>, nullable=False), Column('Value', DOUBLE_PRECISION(precision=53), table=<CurrencyHistory>, nullable=False), Column('Previous_Value', DOUBLE_PRECISION(precision=53), table=<CurrencyHistory>, nullable=False), Column('Closed_Day', BOOLEAN(), table=<CurrencyHistory>, nullable=False), schema=None), 'GoldHistory': Table('GoldHistory', MetaData(), Column('id', INTEGER(), table=<GoldHistory>, primary_key=True, nullable=False, server_default=DefaultClause(<sqlalchemy.sql.elements.TextClause object at 0x7fdb6631db20>, for_update=False)), Column('Gold_Id', BIGINT(), table=<GoldHistory>, nullable=False), Column('Gold_Type', VARCHAR(), table=<GoldHistory>, nullable=False), Column('Date_En', DATE(), table=<GoldHistory>, nullable=False), Column('Value', DOUBLE_PRECISION(precision=53), table=<GoldHistory>, nullable=False), Column('Previous_Value', DOUBLE_PRECISION(precision=53), table=<GoldHistory>, nullable=False), Column('Closed_Day', BOOLEAN(), table=<GoldHistory>, nullable=False), schema=None), 'FundHistory': Table('FundHistory', MetaData(), Column('id', INTEGER(), table=<FundHistory>, primary_key=True, nullable=False, server_default=DefaultClause(<sqlalchemy.sql.elements.TextClause object at 0x7fdb66328040>, for_update=False)), Column('Fund_Id', BIGINT(), table=<FundHistory>, nullable=False), Column('Fund_Name', VARCHAR(), table=<FundHistory>, nullable=False), Column('Fund_NameDetail', VARCHAR(), table=<FundHistory>, nullable=False), Column('Date_En', DATE(), table=<FundHistory>, nullable=False), Column('Price_Closing', DOUBLE_PRECISION(precision=53), table=<FundHistory>, nullable=False), Column('Price_Yesterday', DOUBLE_PRECISION(precision=53), table=<FundHistory>, nullable=False), Column('Closed_Day', BOOLEAN(), table=<FundHistory>, nullable=False), schema=None)})"
      ]
     },
     "execution_count": 16,
     "metadata": {},
     "output_type": "execute_result"
    }
   ],
   "source": [
    "metadata.tables"
   ]
  },
  {
   "cell_type": "code",
   "execution_count": 15,
   "metadata": {},
   "outputs": [
    {
     "data": {
      "text/plain": [
       "dict_keys(['BourseHistory', 'CryptocurrencyHistory', 'CurrencyHistory', 'GoldHistory', 'FundHistory'])"
      ]
     },
     "execution_count": 15,
     "metadata": {},
     "output_type": "execute_result"
    }
   ],
   "source": [
    "metadata.tables.keys()"
   ]
  },
  {
   "cell_type": "code",
   "execution_count": 11,
   "metadata": {},
   "outputs": [
    {
     "name": "stderr",
     "output_type": "stream",
     "text": [
      "INFO:root:Creating Tables ...\n"
     ]
    }
   ],
   "source": [
    "logging.info('Creating Tables ...')\n",
    "Base.metadata.create_all(engine)"
   ]
  },
  {
   "cell_type": "code",
   "execution_count": 6,
   "metadata": {},
   "outputs": [],
   "source": [
    "def get_tmc_data_by_url(url):\n",
    "    headers = { \n",
    "        \"Accept\": \"text/html,application/xhtml+xml,application/xml;q=0.9,image/avif,image/webp,*/*;q=0.8\",\n",
    "        \"Accept-Language\": \"en-US,en;q=0.5\",\n",
    "        \"Accept-Encoding\": \"gzip, deflate, br\",\n",
    "        \"User-Agent\": \"Mozilla/5.0 (Windows NT 10.0; Win64; x64; rv:121.0) Gecko/20100101 Firefox/121.0\"\n",
    "        }\n",
    "\n",
    "    response = requests.get(url, headers= headers)\n",
    "    result = response.json()\n",
    "\n",
    "    return result\n",
    "\n",
    "def transform_index_data(data, index_type, index_code):\n",
    "    df = pd.DataFrame(data['indexB2'])\n",
    "\n",
    "    df['Date_En'] = df['dEven'].astype(str).apply(lambda x: dt.datetime(int(x[:4]), int(x[4:6]), int(x[6:8])))\n",
    "    df['Index_Id'] = df['insCode']\n",
    "    df['Value'] = df['xNivInuPbMresIbs']\n",
    "    df['Previous_Value'] = df['xNivInuClMresIbs']\n",
    "    df['Index_Type'] = index_type\n",
    "    df = df[['Index_Id', 'Index_Type', 'Date_En', 'Value', 'Previous_Value']]\n",
    "    df['Closed_Day'] = False\n",
    "\n",
    "    time_frame = pd.DataFrame({\n",
    "        'Date_En': pd.date_range(start='2022-01-01', end=dt.datetime.now()),\n",
    "        'Index_Id': index_code,\n",
    "        'Index_Type': index_type\n",
    "        })\n",
    "\n",
    "    df = pd.merge(time_frame, df, how= 'left')\n",
    "    df['Closed_Day'] = df['Closed_Day'].fillna(True)\n",
    "    df[['Value', 'Previous_Value']] = df[['Value', 'Previous_Value']].ffill()\n",
    "\n",
    "    return df\n",
    "\n",
    "index_metadata = {\n",
    "    'total': 32097828799138957,\n",
    "    'weighted': 67130298613737946\n",
    "}\n",
    "\n",
    "temp = []\n",
    "for index_type, index_code in index_metadata.items():\n",
    "    url = f'https://cdn.tsetmc.com/api/Index/GetIndexB2History/{index_code}'\n",
    "    data = get_tmc_data_by_url(url)\n",
    "    temp.append(transform_index_data(data, index_type, index_code))\n",
    "temp = pd.concat(temp)\n",
    "# temp.to_sql(\n",
    "#     'IndexHistory',\n",
    "#     con= engine,\n",
    "#     if_exists= 'append',\n",
    "#     index= False\n",
    "# )"
   ]
  },
  {
   "cell_type": "code",
   "execution_count": 7,
   "metadata": {},
   "outputs": [],
   "source": [
    "values = temp.to_dict(orient= 'records')"
   ]
  },
  {
   "cell_type": "code",
   "execution_count": 8,
   "metadata": {},
   "outputs": [],
   "source": [
    "from sqlalchemy import insert\n",
    "stmt = insert(BourseHistory).values(values)\n",
    "\n",
    "with engine.connect() as conn:\n",
    "    result = conn.execute(stmt)\n",
    "    conn.commit()"
   ]
  },
  {
   "cell_type": "code",
   "execution_count": 9,
   "metadata": {},
   "outputs": [],
   "source": [
    "from sqlalchemy_utils import create_view\n",
    "from sqlalchemy import select, func"
   ]
  },
  {
   "cell_type": "code",
   "execution_count": 33,
   "metadata": {},
   "outputs": [],
   "source": [
    "stmt = select(\n",
    "    BourseHistory.Index_Type,\n",
    "    BourseHistory.Value,\n",
    "    ((BourseHistory.Value - func.lag(BourseHistory.Value).over(order_by= BourseHistory.Date_En)) / func.lag(BourseHistory.Value).over(order_by= BourseHistory.Date_En)).label('daily_rate_of_change'),\n",
    "    ((BourseHistory.Value - func.lag(BourseHistory.Value, 7).over(order_by= BourseHistory.Date_En)) / func.lag(BourseHistory.Value, 7).over(order_by= BourseHistory.Date_En)).label('weekly_rate_of_change')\n",
    "    ).where(BourseHistory.Index_Type == \"total\")"
   ]
  },
  {
   "cell_type": "code",
   "execution_count": 36,
   "metadata": {},
   "outputs": [],
   "source": [
    "view = "
   ]
  },
  {
   "cell_type": "code",
   "execution_count": 37,
   "metadata": {},
   "outputs": [],
   "source": [
    "class Bourse_Total_View(Base):\n",
    "    __table__ = create_view('Bourse_Total_View', stmt, Base.metadata)"
   ]
  },
  {
   "cell_type": "code",
   "execution_count": 39,
   "metadata": {},
   "outputs": [],
   "source": [
    "Base.metadata.create_all(engine)"
   ]
  },
  {
   "cell_type": "code",
   "execution_count": null,
   "metadata": {},
   "outputs": [],
   "source": [
    "func."
   ]
  }
 ],
 "metadata": {
  "kernelspec": {
   "display_name": "Python 3",
   "language": "python",
   "name": "python3"
  },
  "language_info": {
   "codemirror_mode": {
    "name": "ipython",
    "version": 3
   },
   "file_extension": ".py",
   "mimetype": "text/x-python",
   "name": "python",
   "nbconvert_exporter": "python",
   "pygments_lexer": "ipython3",
   "version": "3.8.10"
  }
 },
 "nbformat": 4,
 "nbformat_minor": 2
}
