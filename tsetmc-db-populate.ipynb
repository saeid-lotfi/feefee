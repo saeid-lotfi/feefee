{
 "cells": [
  {
   "cell_type": "code",
   "execution_count": 1,
   "metadata": {},
   "outputs": [
    {
     "name": "stderr",
     "output_type": "stream",
     "text": [
      "/usr/lib/python3/dist-packages/requests/__init__.py:78: RequestsDependencyWarning: urllib3 (1.26.18) or chardet (3.0.4) doesn't match a supported version!\n",
      "  warnings.warn(\"urllib3 ({0}) or chardet ({1}) doesn't match a supported \"\n"
     ]
    }
   ],
   "source": [
    "import pandas as pd\n",
    "import requests\n",
    "import datetime as dt\n",
    "\n",
    "from app.models import IndexHistory\n",
    "from app.database import SessionLocal, engine, Base"
   ]
  },
  {
   "cell_type": "code",
   "execution_count": 2,
   "metadata": {},
   "outputs": [],
   "source": [
    "session = SessionLocal()"
   ]
  },
  {
   "cell_type": "code",
   "execution_count": 3,
   "metadata": {},
   "outputs": [],
   "source": [
    "Base.metadata.drop_all(engine)"
   ]
  },
  {
   "cell_type": "code",
   "execution_count": 4,
   "metadata": {},
   "outputs": [],
   "source": [
    "Base.metadata.create_all(engine)"
   ]
  },
  {
   "cell_type": "code",
   "execution_count": 5,
   "metadata": {},
   "outputs": [],
   "source": [
    "headers = { \n",
    "    \"Accept\": \"text/html,application/xhtml+xml,application/xml;q=0.9,image/avif,image/webp,*/*;q=0.8\",\n",
    "    \"Accept-Language\": \"en-US,en;q=0.5\",\n",
    "    \"Accept-Encoding\": \"gzip, deflate, br\",\n",
    "    \"User-Agent\": \"Mozilla/5.0 (Windows NT 10.0; Win64; x64; rv:121.0) Gecko/20100101 Firefox/121.0\"\n",
    "    }\n",
    "\n",
    "url = f'https://cdn.tsetmc.com/api/Index/GetIndexB2History/32097828799138957'\n",
    "\n",
    "response = requests.get(url, headers= headers)\n",
    "res = response.json()\n",
    "\n",
    "df = pd.DataFrame(res['indexB2'])\n",
    "\n",
    "df['Date_En'] = df['dEven'].astype(str).apply(lambda x: dt.datetime(int(x[:4]), int(x[4:6]), int(x[6:8])))\n",
    "df['Index_Id'] = df['insCode']\n",
    "df['Value'] = df['xNivInuPbMresIbs']\n",
    "df['Previous_Value'] = df['xNivInuClMresIbs']\n",
    "df['Index_Type'] = 'boors'\n",
    "df = df[['Index_Id', 'Index_Type', 'Date_En', 'Value', 'Previous_Value']]\n",
    "df['Closed_Day'] = False\n",
    "\n",
    "time_frame = pd.DataFrame({\n",
    "    'Date_En': pd.date_range(start='2022-01-01', end=dt.datetime.now()),\n",
    "    'Index_Id': 32097828799138957,\n",
    "    'Index_Type': 'boors'\n",
    "    })\n",
    "\n",
    "df = pd.merge(time_frame, df, how= 'left')\n",
    "df['Closed_Day'] = df['Closed_Day'].fillna(True)\n",
    "df[['Value', 'Previous_Value']] = df[['Value', 'Previous_Value']].fillna(method='ffill')"
   ]
  },
  {
   "cell_type": "code",
   "execution_count": 6,
   "metadata": {},
   "outputs": [
    {
     "data": {
      "text/plain": [
       "763"
      ]
     },
     "execution_count": 6,
     "metadata": {},
     "output_type": "execute_result"
    }
   ],
   "source": [
    "df.to_sql(\n",
    "    'IndexHistory',\n",
    "    con= engine,\n",
    "    if_exists= 'append',\n",
    "    index= False\n",
    ")"
   ]
  }
 ],
 "metadata": {
  "kernelspec": {
   "display_name": "Python 3",
   "language": "python",
   "name": "python3"
  },
  "language_info": {
   "codemirror_mode": {
    "name": "ipython",
    "version": 3
   },
   "file_extension": ".py",
   "mimetype": "text/x-python",
   "name": "python",
   "nbconvert_exporter": "python",
   "pygments_lexer": "ipython3",
   "version": "3.8.10"
  }
 },
 "nbformat": 4,
 "nbformat_minor": 2
}
